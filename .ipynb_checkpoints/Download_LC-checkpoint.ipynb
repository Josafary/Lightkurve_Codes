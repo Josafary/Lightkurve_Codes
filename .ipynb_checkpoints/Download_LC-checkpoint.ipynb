{
 "cells": [
  {
   "cell_type": "code",
   "execution_count": 1,
   "id": "42a7d0be",
   "metadata": {},
   "outputs": [],
   "source": [
    "import lightkurve as lk\n",
    "import pandas as pd\n",
    "import numpy as np"
   ]
  },
  {
   "cell_type": "markdown",
   "id": "5ddc196d",
   "metadata": {},
   "source": [
    "# Baixar todos os setores disponíveis"
   ]
  },
  {
   "cell_type": "code",
   "execution_count": 2,
   "id": "b2f5b7e3",
   "metadata": {},
   "outputs": [
    {
     "name": "stderr",
     "output_type": "stream",
     "text": [
      "Warning: 30% (5871/19412) of the cadences will be ignored due to the quality mask (quality_bitmask=175).\n"
     ]
    }
   ],
   "source": [
    "file = pd.read_csv('/../../NAOS/Bstars/DR3data/Tab', sep=';')\n",
    "#file = pd.read_csv('test_list.csv', sep=';')\n",
    "id_list = file.TIC\n",
    "\n",
    "for i in range(len(id_list)):\n",
    "    tic = 'TIC ' + str(id_list[i])\n",
    "    search = lk.search_lightcurve(tic, author='SPOC', exptime=120)\n",
    "    for j in range(len(search)):\n",
    "        sector = search.table['mission'][j][12:]\n",
    "        lc = search[j].download().normalize().remove_outliers()\n",
    "        \n",
    "        time = lc.time.value\n",
    "        flux = lc.flux.value\n",
    "        data = pd.DataFrame(np.column_stack([time,flux]), columns=['Time', 'Flux'] )\n",
    "        \n",
    "        #data.to_csv('test_files/' + str(id_list[i]) + '_' + sector + '.dat', sep=' ', index=None, header=None)\n",
    "        data.to_csv('/../../NAOS/Bstars/DR3data/MAPS_Files/dat_special/' + str(id_list[i]) + '_' + sector + '.dat', sep=' ', index=None, header=None)"
   ]
  },
  {
   "cell_type": "markdown",
   "id": "9866393b",
   "metadata": {},
   "source": [
    "# Baixa as LCs dentro de uma faixa de setores determinada"
   ]
  },
  {
   "cell_type": "code",
   "execution_count": 3,
   "id": "84fef60d",
   "metadata": {},
   "outputs": [
    {
     "name": "stderr",
     "output_type": "stream",
     "text": [
      "Warning: 30% (5871/19412) of the cadences will be ignored due to the quality mask (quality_bitmask=175).\n",
      "Warning: 30% (5871/19412) of the cadences will be ignored due to the quality mask (quality_bitmask=175).\n",
      "C:\\Users\\Josafary\\anaconda3\\lib\\site-packages\\lightkurve\\lightcurve.py:1139: LightkurveWarning: The light curve has a negative median flux (-4.42e+01 electron / s); `normalize()` will therefore divide by a negative number and invert the light curve, which is probablynot what you want\n",
      "  warnings.warn(\n",
      "C:\\Users\\Josafary\\anaconda3\\lib\\site-packages\\lightkurve\\lightcurve.py:1139: LightkurveWarning: The light curve has a negative median flux (-1.26e+01 electron / s); `normalize()` will therefore divide by a negative number and invert the light curve, which is probablynot what you want\n",
      "  warnings.warn(\n",
      "Warning: 30% (5871/19412) of the cadences will be ignored due to the quality mask (quality_bitmask=175).\n"
     ]
    }
   ],
   "source": [
    "file = pd.read_csv('/../../NAOS/Bstars/DR3data/TIC_377Bstars.csv', sep=';')\n",
    "id_list = file.TIC\n",
    "\n",
    "for i in range(len(id_list)):\n",
    "    tic = 'TIC ' + str(id_list[i])\n",
    "    search = lk.search_lightcurve(tic, author='SPOC', exptime=120)\n",
    "    for j in range(len(search)):\n",
    "        sector = search.table['mission'][j][12:]\n",
    "        if 1 < int(sector) < 36:\n",
    "            lc = search[j].download().normalize().remove_outliers()\n",
    "        \n",
    "            time = lc.time.value\n",
    "            flux = lc.flux.value\n",
    "            data = pd.DataFrame(np.column_stack([time,flux]), columns=['Time', 'Flux'])\n",
    "        \n",
    "            #data.to_csv('test_files/' + str(id_list[i]) + '_' + sector + '.dat', sep=' ', index=None, header=None)\n",
    "            data.to_csv('/../../NAOS/Bstars/DR3data/MAPS_Files/377_SAMPLE/dat/' + str(id_list[i]) + '_' + sector + '.dat', sep=' ', index=None, header=None)"
   ]
  },
  {
   "cell_type": "code",
   "execution_count": null,
   "id": "5239d63e",
   "metadata": {},
   "outputs": [],
   "source": []
  }
 ],
 "metadata": {
  "kernelspec": {
   "display_name": "Python 3 (ipykernel)",
   "language": "python",
   "name": "python3"
  },
  "language_info": {
   "codemirror_mode": {
    "name": "ipython",
    "version": 3
   },
   "file_extension": ".py",
   "mimetype": "text/x-python",
   "name": "python",
   "nbconvert_exporter": "python",
   "pygments_lexer": "ipython3",
   "version": "3.11.5"
  }
 },
 "nbformat": 4,
 "nbformat_minor": 5
}
