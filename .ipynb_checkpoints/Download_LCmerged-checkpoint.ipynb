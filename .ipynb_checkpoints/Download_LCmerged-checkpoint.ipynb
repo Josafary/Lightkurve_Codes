{
 "cells": [
  {
   "cell_type": "code",
   "execution_count": 1,
   "id": "e9e5a038",
   "metadata": {},
   "outputs": [],
   "source": [
    "import lightkurve as lk\n",
    "import pandas as pd\n",
    "import numpy as np\n",
    "import os"
   ]
  },
  {
   "cell_type": "code",
   "execution_count": null,
   "id": "eb24ebda",
   "metadata": {},
   "outputs": [],
   "source": [
    "# Create a directory to allocate the new merged files\n",
    "try:\n",
    "    os.mkdir('/../NAOS/B_faltantes/merged')\n",
    "except FileExistsError:\n",
    "    pass\n",
    "\n",
    "file = pd.read_csv('/../NAOS/B_faltantes/TICs_faltantes.txt', sep=';')\n",
    "id_list = file.TIC\n",
    "\n",
    "for i in range(len(id_list)):\n",
    "    tic = 'TIC ' + str(id_list[i])\n",
    "    search = lk.search_lightcurve(tic, author='SPOC', exptime=120)\n",
    "    for j in range(len(search)):\n",
    "        lc = search.download_all().stitch().remove_outliers(sigma=3.5)\n",
    "        \n",
    "        time = lc.time.value\n",
    "        flux = lc.flux.value\n",
    "        data = pd.DataFrame(np.column_stack([time,flux]), columns=['Time', 'Flux'] )\n",
    "        \n",
    "        data.to_csv('/../NAOS/B_faltantes//merged/' + str(id_list[i]) + '_' + 'merged.dat', sep=' ', index=None, header=None)"
   ]
  },
  {
   "cell_type": "code",
   "execution_count": null,
   "id": "2c625ba4",
   "metadata": {},
   "outputs": [],
   "source": []
  }
 ],
 "metadata": {
  "kernelspec": {
   "display_name": "Python 3 (ipykernel)",
   "language": "python",
   "name": "python3"
  },
  "language_info": {
   "codemirror_mode": {
    "name": "ipython",
    "version": 3
   },
   "file_extension": ".py",
   "mimetype": "text/x-python",
   "name": "python",
   "nbconvert_exporter": "python",
   "pygments_lexer": "ipython3",
   "version": "3.11.5"
  }
 },
 "nbformat": 4,
 "nbformat_minor": 5
}
