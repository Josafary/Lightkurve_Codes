{
 "cells": [
  {
   "cell_type": "code",
   "execution_count": null,
   "id": "96aa7032",
   "metadata": {},
   "outputs": [],
   "source": [
    "import lightkurve as lk\n",
    "import pandas as pd\n",
    "\n",
    "file = pd.read_csv('/../NAOS/Bstars_v3/TIC_377_test.csv', sep=';')\n",
    "id_list = file.TIC\n",
    "\n",
    "tic_list = []\n",
    "sector_list = []\n",
    "\n",
    "for i in range(len(id_list)):\n",
    "    search = lk.search_lightcurve(target=f'TIC {id_list[i]}', author='SPOC', exptime=120)\n",
    "    for j in range(len(search)):\n",
    "        sector = search.table['mission'][j][12:]\n",
    "        target = search.table['target_name'][j]\n",
    "        tic_list.append(target)\n",
    "        sector_list.append(sector)\n",
    "        \n",
    "df_target = pd.DataFrame(tic_list, columns=['TIC'])       \n",
    "df_sector = pd.DataFrame(sector_list, columns=['Sector'])\n",
    "main_list = pd.concat([df_target, df_sector], axis=1)\n",
    "main_df = main_list.groupby('TIC').agg(lambda x: list(set(x))).reset_index()\n",
    "N_sector = main_list.groupby('TIC').count().reset_index()\n",
    "final_df = pd.concat([main_df, N_sector.Sector], axis=1)\n",
    "\n",
    "final_df.to_csv('Count_List_Sectors.csv', sep=';', index=None, header=None)"
   ]
  }
 ],
 "metadata": {
  "kernelspec": {
   "display_name": "Python 3 (ipykernel)",
   "language": "python",
   "name": "python3"
  },
  "language_info": {
   "codemirror_mode": {
    "name": "ipython",
    "version": 3
   },
   "file_extension": ".py",
   "mimetype": "text/x-python",
   "name": "python",
   "nbconvert_exporter": "python",
   "pygments_lexer": "ipython3",
   "version": "3.11.5"
  }
 },
 "nbformat": 4,
 "nbformat_minor": 5
}
