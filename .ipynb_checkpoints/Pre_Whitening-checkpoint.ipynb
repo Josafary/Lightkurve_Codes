{
 "cells": [
  {
   "cell_type": "code",
   "execution_count": 1,
   "id": "58aa5bfa",
   "metadata": {},
   "outputs": [],
   "source": [
    "%matplotlib widget\n",
    "import lightkurve as lk\n",
    "from Pyriod import Pyriod\n",
    "import matplotlib.pyplot as plt\n",
    "import numpy as np\n",
    "import pandas as pd"
   ]
  },
  {
   "cell_type": "code",
   "execution_count": 3,
   "id": "c9537b9e",
   "metadata": {},
   "outputs": [
    {
     "ename": "SyntaxError",
     "evalue": "'(' was never closed (1434788918.py, line 3)",
     "output_type": "error",
     "traceback": [
      "\u001b[1;36m  Cell \u001b[1;32mIn[3], line 3\u001b[1;36m\u001b[0m\n\u001b[1;33m    search = lk.search_lightcurve(target=f'TIC {tic}', author='SPOC'#, exptime=120#)\u001b[0m\n\u001b[1;37m                                 ^\u001b[0m\n\u001b[1;31mSyntaxError\u001b[0m\u001b[1;31m:\u001b[0m '(' was never closed\n"
     ]
    }
   ],
   "source": [
    "tic = '273218137'\n",
    "\n",
    "search = lk.search_lightcurve(target=f'TIC {tic}', author='SPOC'#, exptime=120#)\n",
    "search"
   ]
  },
  {
   "cell_type": "code",
   "execution_count": 7,
   "id": "6f7a4c9b",
   "metadata": {},
   "outputs": [
    {
     "data": {
      "application/vnd.jupyter.widget-view+json": {
       "model_id": "dc5e5327ab1b4fbfbe30f99ea89c501f",
       "version_major": 2,
       "version_minor": 0
      },
      "text/plain": [
       "Tab(children=(VBox(children=(HTML(value=''), Canvas(toolbar=Toolbar(toolitems=[('Home', 'Reset original view',…"
      ]
     },
     "metadata": {},
     "output_type": "display_data"
    }
   ],
   "source": [
    "index = 0\n",
    "lc = search[index].download().normalize().remove_outliers(sigma=3.5)\n",
    "#lc = search.download_all().stitch()\n",
    "sector = search.table['mission'][index][12:]\n",
    "\n",
    "pyriod = Pyriod(lc, freq_unit='1/day')\n",
    "pyriod.Pyriod()"
   ]
  },
  {
   "cell_type": "code",
   "execution_count": 7,
   "id": "897107df",
   "metadata": {},
   "outputs": [
    {
     "data": {
      "text/html": [
       "<div><i>TessLightCurve length=12657 LABEL=&quot;TIC 99641129&quot; SECTOR=60 AUTHOR=SPOC FLUX_ORIGIN=pdcsap_flux</i>\n",
       "<table id=\"table1719957457504\" class=\"table-striped table-bordered table-condensed\">\n",
       "<thead><tr><th>time</th><th>flux</th><th>flux_err</th><th>timecorr</th><th>cadenceno</th><th>centroid_col</th><th>centroid_row</th><th>sap_flux</th><th>sap_flux_err</th><th>sap_bkg</th><th>sap_bkg_err</th><th>pdcsap_flux</th><th>pdcsap_flux_err</th><th>quality</th><th>psf_centr1</th><th>psf_centr1_err</th><th>psf_centr2</th><th>psf_centr2_err</th><th>mom_centr1</th><th>mom_centr1_err</th><th>mom_centr2</th><th>mom_centr2_err</th><th>pos_corr1</th><th>pos_corr2</th><th>include</th><th>model</th><th>resid</th></tr></thead>\n",
       "<thead><tr><th></th><th></th><th></th><th>d</th><th></th><th>pix</th><th>pix</th><th>electron / s</th><th>electron / s</th><th>electron / s</th><th>electron / s</th><th>electron / s</th><th>electron / s</th><th></th><th>pix</th><th>pix</th><th>pix</th><th>pix</th><th>pix</th><th>pix</th><th>pix</th><th>pix</th><th>pix</th><th>pix</th><th></th><th></th><th></th></tr></thead>\n",
       "<thead><tr><th>Time</th><th>float32</th><th>float32</th><th>float32</th><th>int32</th><th>float64</th><th>float64</th><th>float32</th><th>float32</th><th>float32</th><th>float32</th><th>float32</th><th>float32</th><th>int32</th><th>float64</th><th>float32</th><th>float64</th><th>float32</th><th>float64</th><th>float32</th><th>float64</th><th>float32</th><th>float32</th><th>float32</th><th>float64</th><th>float64</th><th>float64</th></tr></thead>\n",
       "<tr><td>2939.2949223915452</td><td>1.0551639e+00</td><td>3.2215681e-02</td><td>4.0632468e-03</td><td>1232522</td><td>464.80136</td><td>1979.15536</td><td>1.1779459e+02</td><td>2.7724016e+00</td><td>3.6297351e+02</td><td>9.9607211e-01</td><td>1.9517943e+02</td><td>5.9591103e+00</td><td>0</td><td>———</td><td>———</td><td>———</td><td>———</td><td>464.80136</td><td>2.5288384e-02</td><td>1979.15536</td><td>1.8273951e-02</td><td>-1.8174086e-02</td><td>-4.1340899e-02</td><td>1.0</td><td>1.052941027828501</td><td>2.2228325e-03</td></tr>\n",
       "<tr><td>2939.296311291914</td><td>1.1524953e+00</td><td>3.2385707e-02</td><td>4.0632589e-03</td><td>1232523</td><td>464.76165</td><td>1979.15480</td><td>1.2614645e+02</td><td>2.7870338e+00</td><td>3.6194705e+02</td><td>9.9576068e-01</td><td>2.1318335e+02</td><td>5.9905615e+00</td><td>0</td><td>———</td><td>———</td><td>———</td><td>———</td><td>464.76165</td><td>2.3578204e-02</td><td>1979.15480</td><td>1.7202692e-02</td><td>-1.8399483e-02</td><td>-4.5725528e-02</td><td>1.0</td><td>1.1079672098628601</td><td>4.4528055e-02</td></tr>\n",
       "<tr><td>2939.2977001918175</td><td>1.1603628e+00</td><td>3.2377832e-02</td><td>4.0632705e-03</td><td>1232524</td><td>464.79717</td><td>1979.12938</td><td>1.2685998e+02</td><td>2.7863564e+00</td><td>3.6188208e+02</td><td>9.9243200e-01</td><td>2.1463866e+02</td><td>5.9891047e+00</td><td>0</td><td>———</td><td>———</td><td>———</td><td>———</td><td>464.79717</td><td>2.2960646e-02</td><td>1979.12938</td><td>1.6543938e-02</td><td>-1.6154846e-02</td><td>-4.1730713e-02</td><td>1.0</td><td>1.13965603258766</td><td>2.0706807e-02</td></tr>\n",
       "<tr><td>2939.299089092186</td><td>1.1429867e+00</td><td>3.2376200e-02</td><td>4.0632826e-03</td><td>1232525</td><td>464.82214</td><td>1979.14383</td><td>1.2534887e+02</td><td>2.7862158e+00</td><td>3.6148859e+02</td><td>9.9317259e-01</td><td>2.1142448e+02</td><td>5.9888024e+00</td><td>0</td><td>———</td><td>———</td><td>———</td><td>———</td><td>464.82214</td><td>2.3445990e-02</td><td>1979.14383</td><td>1.6888173e-02</td><td>-1.8537039e-02</td><td>-4.3119777e-02</td><td>1.0</td><td>1.143130831276847</td><td>-1.4417604e-04</td></tr>\n",
       "<tr><td>2939.300477992089</td><td>1.1262790e+00</td><td>3.2315321e-02</td><td>4.0632943e-03</td><td>1232526</td><td>464.82197</td><td>1979.13852</td><td>1.2393992e+02</td><td>2.7809765e+00</td><td>3.6147903e+02</td><td>9.9473327e-01</td><td>2.0833398e+02</td><td>5.9775414e+00</td><td>0</td><td>———</td><td>———</td><td>———</td><td>———</td><td>464.82197</td><td>2.4774710e-02</td><td>1979.13852</td><td>1.7771607e-02</td><td>-1.9619197e-02</td><td>-4.2422045e-02</td><td>1.0</td><td>1.1245993635252796</td><td>1.6796329e-03</td></tr>\n",
       "<tr><td>2939.3018668919926</td><td>1.1443261e+00</td><td>3.2308921e-02</td><td>4.0633059e-03</td><td>1232527</td><td>464.76479</td><td>1979.12142</td><td>1.2544959e+02</td><td>2.7804260e+00</td><td>3.6024765e+02</td><td>9.9283522e-01</td><td>2.1167224e+02</td><td>5.9763579e+00</td><td>0</td><td>———</td><td>———</td><td>———</td><td>———</td><td>464.76479</td><td>2.2881340e-02</td><td>1979.12142</td><td>1.6565897e-02</td><td>-2.0866390e-02</td><td>-4.9202144e-02</td><td>1.0</td><td>1.0973174422373118</td><td>4.7008649e-02</td></tr>\n",
       "<tr><td>2939.303255792361</td><td>1.1594623e+00</td><td>3.2296799e-02</td><td>4.0633180e-03</td><td>1232528</td><td>464.80326</td><td>1979.13707</td><td>1.2676529e+02</td><td>2.7793827e+00</td><td>3.5939328e+02</td><td>9.9244606e-01</td><td>2.1447208e+02</td><td>5.9741154e+00</td><td>0</td><td>———</td><td>———</td><td>———</td><td>———</td><td>464.80326</td><td>2.3025338e-02</td><td>1979.13707</td><td>1.6554350e-02</td><td>-1.6401820e-02</td><td>-4.4769634e-02</td><td>1.0</td><td>1.0749520393681355</td><td>8.4510293e-02</td></tr>\n",
       "<tr><td>2939.304644692264</td><td>1.1010278e+00</td><td>3.2297187e-02</td><td>4.0633297e-03</td><td>1232529</td><td>464.84696</td><td>1979.16066</td><td>1.2176952e+02</td><td>2.7794161e+00</td><td>3.6190604e+02</td><td>9.9343467e-01</td><td>2.0366313e+02</td><td>5.9741869e+00</td><td>0</td><td>———</td><td>———</td><td>———</td><td>———</td><td>464.84696</td><td>2.4745094e-02</td><td>1979.16066</td><td>1.7796583e-02</td><td>-1.9781781e-02</td><td>-4.2425640e-02</td><td>1.0</td><td>1.0655513716880458</td><td>3.5476475e-02</td></tr>\n",
       "<tr><td>2939.3060335926334</td><td>1.0758266e+00</td><td>3.2171015e-02</td><td>4.0633418e-03</td><td>1232530</td><td>464.80510</td><td>1979.13615</td><td>1.1953330e+02</td><td>2.7685580e+00</td><td>3.6012387e+02</td><td>9.9201810e-01</td><td>1.9900153e+02</td><td>5.9508481e+00</td><td>0</td><td>———</td><td>———</td><td>———</td><td>———</td><td>464.80510</td><td>2.4992419e-02</td><td>1979.13615</td><td>1.7985484e-02</td><td>-1.7827939e-02</td><td>-4.0484443e-02</td><td>1.0</td><td>1.068815566404674</td><td>7.0110785e-03</td></tr>\n",
       "<tr><td>...</td><td>...</td><td>...</td><td>...</td><td>...</td><td>...</td><td>...</td><td>...</td><td>...</td><td>...</td><td>...</td><td>...</td><td>...</td><td>...</td><td>...</td><td>...</td><td>...</td><td>...</td><td>...</td><td>...</td><td>...</td><td>...</td><td>...</td><td>...</td><td>...</td><td>...</td><td>...</td></tr>\n",
       "<tr><td>2962.5739087294437</td><td>9.6745414e-01</td><td>2.6368538e-02</td><td>3.8934324e-03</td><td>1249283</td><td>464.90026</td><td>1979.14826</td><td>1.0420508e+02</td><td>2.2692111e+00</td><td>1.8475395e+02</td><td>7.9096222e-01</td><td>1.7895528e+02</td><td>4.8775325e+00</td><td>0</td><td>———</td><td>———</td><td>———</td><td>———</td><td>464.90026</td><td>2.1743469e-02</td><td>1979.14826</td><td>1.5414176e-02</td><td>8.0493025e-02</td><td>-3.4965131e-02</td><td>1.0</td><td>0.8332884172466937</td><td>1.3416572e-01</td></tr>\n",
       "<tr><td>2962.575297578823</td><td>8.2395077e-01</td><td>2.6002580e-02</td><td>3.8933936e-03</td><td>1249284</td><td>464.91982</td><td>1979.16942</td><td>9.1756050e+01</td><td>2.2377176e+00</td><td>1.8524133e+02</td><td>7.9039186e-01</td><td>1.5241068e+02</td><td>4.8098392e+00</td><td>0</td><td>———</td><td>———</td><td>———</td><td>———</td><td>464.91982</td><td>2.4304207e-02</td><td>1979.16942</td><td>1.7169176e-02</td><td>8.3676003e-02</td><td>-3.3653717e-02</td><td>1.0</td><td>0.7333046768611523</td><td>9.0646091e-02</td></tr>\n",
       "<tr><td>2962.576686428434</td><td>7.1383286e-01</td><td>2.5755946e-02</td><td>3.8933549e-03</td><td>1249285</td><td>464.89892</td><td>1979.16364</td><td>8.2217949e+01</td><td>2.2164929e+00</td><td>1.8582706e+02</td><td>7.9057038e-01</td><td>1.3204156e+02</td><td>4.7642179e+00</td><td>0</td><td>———</td><td>———</td><td>———</td><td>———</td><td>464.89892</td><td>2.6269436e-02</td><td>1979.16364</td><td>1.8620741e-02</td><td>7.6809004e-02</td><td>-3.2659810e-02</td><td>1.0</td><td>0.6231912756926503</td><td>9.0641580e-02</td></tr>\n",
       "<tr><td>2962.5780752778132</td><td>5.9769577e-01</td><td>2.5447488e-02</td><td>3.8933160e-03</td><td>1249286</td><td>464.91535</td><td>1979.15836</td><td>7.2112900e+01</td><td>2.1899478e+00</td><td>1.8625172e+02</td><td>7.9188257e-01</td><td>1.1055905e+02</td><td>4.7071609e+00</td><td>0</td><td>———</td><td>———</td><td>———</td><td>———</td><td>464.91535</td><td>2.8643947e-02</td><td>1979.15836</td><td>2.0168928e-02</td><td>8.0085240e-02</td><td>-3.0166863e-02</td><td>1.0</td><td>0.5289294471262336</td><td>6.8766321e-02</td></tr>\n",
       "<tr><td>2962.5794641271923</td><td>4.6505061e-01</td><td>2.5097204e-02</td><td>3.8932771e-03</td><td>1249287</td><td>464.99311</td><td>1979.18860</td><td>6.0631542e+01</td><td>2.1598034e+00</td><td>1.8483766e+02</td><td>7.9230684e-01</td><td>8.6022949e+01</td><td>4.6423669e+00</td><td>0</td><td>———</td><td>———</td><td>———</td><td>———</td><td>464.99311</td><td>3.1448513e-02</td><td>1979.18860</td><td>2.1870175e-02</td><td>7.9453014e-02</td><td>-3.2989070e-02</td><td>1.0</td><td>0.47526863683109244</td><td>-1.0218029e-02</td></tr>\n",
       "<tr><td>2962.5808529765704</td><td>4.7007945e-01</td><td>2.5100883e-02</td><td>3.8932383e-03</td><td>1249288</td><td>464.92143</td><td>1979.19309</td><td>6.1003944e+01</td><td>2.1601200e+00</td><td>1.8453503e+02</td><td>7.9059792e-01</td><td>8.6953163e+01</td><td>4.6430473e+00</td><td>0</td><td>———</td><td>———</td><td>———</td><td>———</td><td>464.92143</td><td>3.0552598e-02</td><td>1979.19309</td><td>2.1701695e-02</td><td>8.2061619e-02</td><td>-3.2507256e-02</td><td>1.0</td><td>0.47693724431117895</td><td>-6.8577925e-03</td></tr>\n",
       "<tr><td>2962.58224182595</td><td>5.6840587e-01</td><td>2.5275623e-02</td><td>3.8931994e-03</td><td>1249289</td><td>464.94873</td><td>1979.14923</td><td>6.9392075e+01</td><td>2.1751575e+00</td><td>1.8415443e+02</td><td>7.9016268e-01</td><td>1.0514114e+02</td><td>4.6753702e+00</td><td>0</td><td>———</td><td>———</td><td>———</td><td>———</td><td>464.94873</td><td>2.8245794e-02</td><td>1979.14923</td><td>1.9692764e-02</td><td>8.0222487e-02</td><td>-3.1051394e-02</td><td>1.0</td><td>0.533424644219723</td><td>3.4981222e-02</td></tr>\n",
       "<tr><td>2962.5836306755614</td><td>6.9573826e-01</td><td>2.5597779e-02</td><td>3.8931607e-03</td><td>1249290</td><td>464.89201</td><td>1979.14498</td><td>8.0267479e+01</td><td>2.2028816e+00</td><td>1.8406270e+02</td><td>7.8818482e-01</td><td>1.2869450e+02</td><td>4.7349610e+00</td><td>0</td><td>———</td><td>———</td><td>———</td><td>———</td><td>464.89201</td><td>2.5256030e-02</td><td>1979.14498</td><td>1.7870860e-02</td><td>8.0540068e-02</td><td>-2.9537374e-02</td><td>1.0</td><td>0.6294681850641077</td><td>6.6270071e-02</td></tr>\n",
       "<tr><td>2962.58501952494</td><td>8.5002297e-01</td><td>2.6044253e-02</td><td>3.8931218e-03</td><td>1249291</td><td>464.89054</td><td>1979.14651</td><td>9.3722229e+01</td><td>2.2413039e+00</td><td>1.8485533e+02</td><td>7.8919011e-01</td><td>1.5723340e+02</td><td>4.8175478e+00</td><td>1000000000</td><td>———</td><td>———</td><td>———</td><td>———</td><td>464.89054</td><td>2.3358682e-02</td><td>1979.14651</td><td>1.6580971e-02</td><td>7.8158528e-02</td><td>-3.1788770e-02</td><td>1.0</td><td>0.7409145162485116</td><td>1.0910846e-01</td></tr>\n",
       "<tr><td>2962.586408374319</td><td>9.0059823e-01</td><td>2.6187398e-02</td><td>3.8930830e-03</td><td>1249292</td><td>464.87050</td><td>1979.14493</td><td>9.7792244e+01</td><td>2.2536225e+00</td><td>1.8542368e+02</td><td>7.9193711e-01</td><td>1.6658858e+02</td><td>4.8440261e+00</td><td>0</td><td>———</td><td>———</td><td>———</td><td>———</td><td>464.87050</td><td>2.2475185e-02</td><td>1979.14493</td><td>1.6025012e-02</td><td>8.0301061e-02</td><td>-3.3217698e-02</td><td>1.0</td><td>0.8433540006513823</td><td>5.7244227e-02</td></tr>\n",
       "</table></div>"
      ],
      "text/plain": [
       "<TessLightCurve length=12657 LABEL=\"TIC 99641129\" SECTOR=60 AUTHOR=SPOC FLUX_ORIGIN=pdcsap_flux>\n",
       "       time             flux      ...        model            resid     \n",
       "                                  ...                                   \n",
       "       Time           float32     ...       float64          float64    \n",
       "------------------ -------------- ... ------------------- --------------\n",
       "2939.2949223915452  1.0551639e+00 ...   1.052941027828501  2.2228325e-03\n",
       " 2939.296311291914  1.1524953e+00 ...  1.1079672098628601  4.4528055e-02\n",
       "2939.2977001918175  1.1603628e+00 ...    1.13965603258766  2.0706807e-02\n",
       " 2939.299089092186  1.1429867e+00 ...   1.143130831276847 -1.4417604e-04\n",
       " 2939.300477992089  1.1262790e+00 ...  1.1245993635252796  1.6796329e-03\n",
       "2939.3018668919926  1.1443261e+00 ...  1.0973174422373118  4.7008649e-02\n",
       " 2939.303255792361  1.1594623e+00 ...  1.0749520393681355  8.4510293e-02\n",
       " 2939.304644692264  1.1010278e+00 ...  1.0655513716880458  3.5476475e-02\n",
       "2939.3060335926334  1.0758266e+00 ...   1.068815566404674  7.0110785e-03\n",
       "               ...            ... ...                 ...            ...\n",
       "2962.5739087294437  9.6745414e-01 ...  0.8332884172466937  1.3416572e-01\n",
       " 2962.575297578823  8.2395077e-01 ...  0.7333046768611523  9.0646091e-02\n",
       " 2962.576686428434  7.1383286e-01 ...  0.6231912756926503  9.0641580e-02\n",
       "2962.5780752778132  5.9769577e-01 ...  0.5289294471262336  6.8766321e-02\n",
       "2962.5794641271923  4.6505061e-01 ... 0.47526863683109244 -1.0218029e-02\n",
       "2962.5808529765704  4.7007945e-01 ... 0.47693724431117895 -6.8577925e-03\n",
       "  2962.58224182595  5.6840587e-01 ...   0.533424644219723  3.4981222e-02\n",
       "2962.5836306755614  6.9573826e-01 ...  0.6294681850641077  6.6270071e-02\n",
       "  2962.58501952494  8.5002297e-01 ...  0.7409145162485116  1.0910846e-01\n",
       " 2962.586408374319  9.0059823e-01 ...  0.8433540006513823  5.7244227e-02"
      ]
     },
     "execution_count": 7,
     "metadata": {},
     "output_type": "execute_result"
    }
   ],
   "source": [
    "pyriod.lc"
   ]
  },
  {
   "cell_type": "code",
   "execution_count": 16,
   "id": "cf6a179d",
   "metadata": {},
   "outputs": [],
   "source": [
    "resid_lc = pyriod.lc['resid'].value\n",
    "time = pyriod.lc['time'].value\n",
    "data = pd.DataFrame(np.column_stack([time, resid_lc]), columns=['Time', 'Resid_flux'])\n",
    "\n",
    "data.to_csv('residual_LC_tic99641129.dat', sep=' ', index=None, header=None)"
   ]
  },
  {
   "cell_type": "code",
   "execution_count": 13,
   "id": "bec36b02",
   "metadata": {},
   "outputs": [
    {
     "data": {
      "text/plain": [
       "MaskedNDArray([0.00222283, 0.04452806, 0.02070681, ..., 0.06627007,\n",
       "               0.10910846, 0.05724423])"
      ]
     },
     "execution_count": 13,
     "metadata": {},
     "output_type": "execute_result"
    }
   ],
   "source": [
    "resid_lc"
   ]
  },
  {
   "cell_type": "code",
   "execution_count": null,
   "id": "44215658",
   "metadata": {},
   "outputs": [],
   "source": []
  }
 ],
 "metadata": {
  "kernelspec": {
   "display_name": "Python 3 (ipykernel)",
   "language": "python",
   "name": "python3"
  },
  "language_info": {
   "codemirror_mode": {
    "name": "ipython",
    "version": 3
   },
   "file_extension": ".py",
   "mimetype": "text/x-python",
   "name": "python",
   "nbconvert_exporter": "python",
   "pygments_lexer": "ipython3",
   "version": "3.11.5"
  }
 },
 "nbformat": 4,
 "nbformat_minor": 5
}
