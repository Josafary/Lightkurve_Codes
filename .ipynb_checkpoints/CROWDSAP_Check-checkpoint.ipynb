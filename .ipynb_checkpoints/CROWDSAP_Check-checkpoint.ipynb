{
 "cells": [
  {
   "cell_type": "code",
   "execution_count": null,
   "id": "d92a278d",
   "metadata": {},
   "outputs": [],
   "source": [
    "import pandas as pd\n",
    "import numpy as np\n",
    "import lightkurve as lk\n",
    "\n",
    "crowdsap_values = []\n",
    "setor_values=[]\n",
    "tic_values=[]\n",
    "tic_list= pd.read_csv('../../NAOS/Bstars/DR3data/TIC_sdB.txt')\n",
    "\n",
    "for k in range(len(tic_list)):\n",
    "    uni = tic_list.loc[k,'TIC']\n",
    "    #uni2 = tic_list.loc[k,'sec']\n",
    "    search_result0 = lk.search_targetpixelfile(f'TIC{uni}', mission = 'TESS',exptime=120,author = \"SPOC\")\n",
    "    for i in range(len(search_result0)):\n",
    "        setor = search_result0.table['mission'][i][12:]\n",
    "        Name= search_result0.table['target_name'][i]\n",
    "        tpf = lk.search_targetpixelfile(f\"TIC{Name}\" , sector=setor, exptime=120).download(quality_bitmask='hard')\n",
    "        \n",
    "        # Extrair o valor de CROWDSAP\n",
    "        if tpf is not None:\n",
    "            crowdsap = tpf.hdu[1].header['CROWDSAP']\n",
    "            IDNAME=tpf.hdu[0].header['OBJECT']\n",
    "            SECNAME=tpf.hdu[0].header['SECTOR']\n",
    "       \n",
    "            tic_values.append(SECNAME)\n",
    "        \n",
    "            setor_values.append(IDNAME)\n",
    "            crowdsap_values.append(crowdsap)\n",
    "df = pd.DataFrame()\n",
    "df['TIC'] = tic_values\n",
    "df['Setor'] = setor_values\n",
    "df['CROWDSAP'] = crowdsap_values\n",
    "df.to_csv('../../NAOS/Bstars/DR3data/sdB_presentation/Presentation_Oct2023/', sep=';', index=False)\n",
    "\n",
    "print('DONE!')"
   ]
  },
  {
   "cell_type": "code",
   "execution_count": 2,
   "id": "502db931",
   "metadata": {},
   "outputs": [],
   "source": [
    "import lightkurve as lk"
   ]
  },
  {
   "cell_type": "code",
   "execution_count": null,
   "id": "148422be",
   "metadata": {},
   "outputs": [],
   "source": [
    "tic = 'TIC 68495594'\n",
    "\n",
    "search = lk.search_lightcurve(tic, author='SPOC', exptime=120)\n",
    "search"
   ]
  },
  {
   "cell_type": "code",
   "execution_count": 30,
   "id": "30adb401",
   "metadata": {},
   "outputs": [
    {
     "data": {
      "text/plain": [
       "0.63651675"
      ]
     },
     "execution_count": 30,
     "metadata": {},
     "output_type": "execute_result"
    }
   ],
   "source": [
    "tic = 'TIC 458785169'\n",
    "sector = 18\n",
    "\n",
    "tpf = lk.search_targetpixelfile(tic , sector=sector, exptime=120).download(quality_bitmask='hard')\n",
    "\n",
    "crowdsap = tpf.hdu[1].header['CROWDSAP']\n",
    "crowdsap"
   ]
  },
  {
   "cell_type": "code",
   "execution_count": null,
   "id": "c28036b6",
   "metadata": {},
   "outputs": [],
   "source": []
  }
 ],
 "metadata": {
  "kernelspec": {
   "display_name": "Python 3 (ipykernel)",
   "language": "python",
   "name": "python3"
  },
  "language_info": {
   "codemirror_mode": {
    "name": "ipython",
    "version": 3
   },
   "file_extension": ".py",
   "mimetype": "text/x-python",
   "name": "python",
   "nbconvert_exporter": "python",
   "pygments_lexer": "ipython3",
   "version": "3.11.5"
  }
 },
 "nbformat": 4,
 "nbformat_minor": 5
}
