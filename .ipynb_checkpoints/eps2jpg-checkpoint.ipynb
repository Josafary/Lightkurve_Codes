{
 "cells": [
  {
   "cell_type": "code",
   "execution_count": null,
   "id": "ddc73a34",
   "metadata": {},
   "outputs": [],
   "source": [
    "import os\n",
    "from PIL import Image\n",
    "\n",
    "#Read all files in the eps directory and return a list of them\n",
    "path = 'eps/'\n",
    "file_dir = os.listdir(path)\n",
    "\n",
    "#Create a directory named JPG and save all jpg files in it\n",
    "try:\n",
    "    os.mkdir('JPG')\n",
    "except FileExistsError:\n",
    "    pass\n",
    "\n",
    "ID_list = []\n",
    "\n",
    "for i in range(0, len(file_dir)):\n",
    "    a = file_dir[i].split('.')\n",
    "    ID_list.append(a[0])\n",
    "    \n",
    "    eps_img = 'eps/' + file_dir[i]\n",
    "    img = Image.open(eps_img)\n",
    "    fig = img.convert('RGB')\n",
    "    \n",
    "    jpg_img = 'JPG/' + ID_list[i] + '.jpg'\n",
    "    fig.save(jpg_img, lossless = True)"
   ]
  }
 ],
 "metadata": {
  "kernelspec": {
   "display_name": "Python 3 (ipykernel)",
   "language": "python",
   "name": "python3"
  },
  "language_info": {
   "codemirror_mode": {
    "name": "ipython",
    "version": 3
   },
   "file_extension": ".py",
   "mimetype": "text/x-python",
   "name": "python",
   "nbconvert_exporter": "python",
   "pygments_lexer": "ipython3",
   "version": "3.11.5"
  }
 },
 "nbformat": 4,
 "nbformat_minor": 5
}
