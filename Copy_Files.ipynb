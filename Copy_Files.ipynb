{
 "cells": [
  {
   "cell_type": "code",
   "execution_count": 1,
   "id": "06aa900d",
   "metadata": {},
   "outputs": [
    {
     "name": "stdout",
     "output_type": "stream",
     "text": [
      "DONE!\n"
     ]
    }
   ],
   "source": [
    "# SCRIPT PARA COPIAR ARQUIVOS DE UM DIRETÓRIO PARA OUTRO A PARTIR DE UMA LISTA EM COMUM\n",
    "\n",
    "from os import listdir, mkdir\n",
    "import pandas as pd\n",
    "import shutil\n",
    "\n",
    "#Criando diretório de destino\n",
    "try:\n",
    "    mkdir('/../NAOS/Bstars/DR3data/sdB_presentation/Presentation_Oct2023/phase-folded')\n",
    "except FileExistsError:\n",
    "    pass\n",
    "\n",
    "\n",
    "#Criando a lista de arquivos do diretório de origem\n",
    "path = '/../NAOS/Bstars/DR3data/MAPS_Files/377_SAMPLE/phase_folded/'\n",
    "listDir = listdir(path)\n",
    "\n",
    "ID_list = []\n",
    "\n",
    "for i in range(len(listDir)):\n",
    "    a = listDir[i].split('_')\n",
    "    ID_list.append(a[0])\n",
    "\n",
    "\n",
    "#Lendo lista a ser comparada com os arquivos do diretório de origem\n",
    "df = pd.read_csv('/../NAOS/Bstars/DR3data/TIC_sdB.txt', header=None)\n",
    "\n",
    "\n",
    "#Copiando arquivos do diretório de origem para o destino\n",
    "for i in range(len(df)):\n",
    "    for j in range(len(ID_list)):\n",
    "        if str(df[0][i]) == ID_list[j]:\n",
    "            src = path + listDir[j]\n",
    "            dst = '/../NAOS/Bstars/DR3data/sdB_presentation/Presentation_Oct2023/phase-folded'\n",
    "            shutil.copy2(src, dst)\n",
    "            \n",
    "print('DONE!')"
   ]
  },
  {
   "cell_type": "code",
   "execution_count": null,
   "id": "ec8525ec",
   "metadata": {},
   "outputs": [],
   "source": []
  }
 ],
 "metadata": {
  "kernelspec": {
   "display_name": "Python 3 (ipykernel)",
   "language": "python",
   "name": "python3"
  },
  "language_info": {
   "codemirror_mode": {
    "name": "ipython",
    "version": 3
   },
   "file_extension": ".py",
   "mimetype": "text/x-python",
   "name": "python",
   "nbconvert_exporter": "python",
   "pygments_lexer": "ipython3",
   "version": "3.10.9"
  }
 },
 "nbformat": 4,
 "nbformat_minor": 5
}
