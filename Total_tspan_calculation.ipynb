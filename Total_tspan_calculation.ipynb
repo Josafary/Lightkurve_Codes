{
 "cells": [
  {
   "cell_type": "markdown",
   "id": "9655aee8",
   "metadata": {},
   "source": [
    "# Calculates the t_span sum of the all sectors observed "
   ]
  },
  {
   "cell_type": "code",
   "execution_count": 1,
   "id": "43d7c791",
   "metadata": {},
   "outputs": [],
   "source": [
    "import pandas as pd"
   ]
  },
  {
   "cell_type": "code",
   "execution_count": 14,
   "id": "f01d2003",
   "metadata": {},
   "outputs": [],
   "source": [
    "file = pd.read_csv('D:/UFRN/NAOS/BStars_2024att/Puls/dat/get_tspan.txt', sep=' ')\n",
    "group = round(file.groupby('id').sum()['tspan_eff'], 0)\n",
    "\n",
    "group.to_csv('D:/UFRN/NAOS/BStars_2024att/Puls/Total_tspan.csv', sep=';')"
   ]
  },
  {
   "cell_type": "markdown",
   "id": "b6758452",
   "metadata": {},
   "source": [
    "## Step by step code lines"
   ]
  },
  {
   "cell_type": "code",
   "execution_count": 2,
   "id": "568011f4",
   "metadata": {},
   "outputs": [
    {
     "data": {
      "text/html": [
       "<div>\n",
       "<style scoped>\n",
       "    .dataframe tbody tr th:only-of-type {\n",
       "        vertical-align: middle;\n",
       "    }\n",
       "\n",
       "    .dataframe tbody tr th {\n",
       "        vertical-align: top;\n",
       "    }\n",
       "\n",
       "    .dataframe thead th {\n",
       "        text-align: right;\n",
       "    }\n",
       "</style>\n",
       "<table border=\"1\" class=\"dataframe\">\n",
       "  <thead>\n",
       "    <tr style=\"text-align: right;\">\n",
       "      <th></th>\n",
       "      <th>id</th>\n",
       "      <th>nobs</th>\n",
       "      <th>dt_main</th>\n",
       "      <th>tspan</th>\n",
       "      <th>tspan_eff</th>\n",
       "    </tr>\n",
       "  </thead>\n",
       "  <tbody>\n",
       "    <tr>\n",
       "      <th>0</th>\n",
       "      <td>110798652</td>\n",
       "      <td>16343.0</td>\n",
       "      <td>0.001343</td>\n",
       "      <td>24.454224</td>\n",
       "      <td>21.944946</td>\n",
       "    </tr>\n",
       "    <tr>\n",
       "      <th>1</th>\n",
       "      <td>110798652</td>\n",
       "      <td>16818.0</td>\n",
       "      <td>0.001465</td>\n",
       "      <td>24.962402</td>\n",
       "      <td>24.635742</td>\n",
       "    </tr>\n",
       "    <tr>\n",
       "      <th>2</th>\n",
       "      <td>110798652</td>\n",
       "      <td>16051.0</td>\n",
       "      <td>0.001465</td>\n",
       "      <td>24.360840</td>\n",
       "      <td>23.512207</td>\n",
       "    </tr>\n",
       "    <tr>\n",
       "      <th>3</th>\n",
       "      <td>118269334</td>\n",
       "      <td>12583.0</td>\n",
       "      <td>0.001343</td>\n",
       "      <td>22.994873</td>\n",
       "      <td>16.896118</td>\n",
       "    </tr>\n",
       "    <tr>\n",
       "      <th>4</th>\n",
       "      <td>118269334</td>\n",
       "      <td>18771.0</td>\n",
       "      <td>0.001465</td>\n",
       "      <td>27.717529</td>\n",
       "      <td>27.496582</td>\n",
       "    </tr>\n",
       "    <tr>\n",
       "      <th>...</th>\n",
       "      <td>...</td>\n",
       "      <td>...</td>\n",
       "      <td>...</td>\n",
       "      <td>...</td>\n",
       "      <td>...</td>\n",
       "    </tr>\n",
       "    <tr>\n",
       "      <th>237</th>\n",
       "      <td>4491131</td>\n",
       "      <td>12952.0</td>\n",
       "      <td>0.001465</td>\n",
       "      <td>23.701660</td>\n",
       "      <td>18.972656</td>\n",
       "    </tr>\n",
       "    <tr>\n",
       "      <th>238</th>\n",
       "      <td>4491131</td>\n",
       "      <td>14483.0</td>\n",
       "      <td>0.001465</td>\n",
       "      <td>23.631348</td>\n",
       "      <td>21.215332</td>\n",
       "    </tr>\n",
       "    <tr>\n",
       "      <th>239</th>\n",
       "      <td>4491131</td>\n",
       "      <td>14715.0</td>\n",
       "      <td>0.001465</td>\n",
       "      <td>23.408691</td>\n",
       "      <td>21.555176</td>\n",
       "    </tr>\n",
       "    <tr>\n",
       "      <th>240</th>\n",
       "      <td>58105597</td>\n",
       "      <td>12899.0</td>\n",
       "      <td>0.001343</td>\n",
       "      <td>23.308105</td>\n",
       "      <td>17.320435</td>\n",
       "    </tr>\n",
       "    <tr>\n",
       "      <th>241</th>\n",
       "      <td>58105597</td>\n",
       "      <td>17991.0</td>\n",
       "      <td>0.001465</td>\n",
       "      <td>28.759521</td>\n",
       "      <td>26.354004</td>\n",
       "    </tr>\n",
       "  </tbody>\n",
       "</table>\n",
       "<p>242 rows × 5 columns</p>\n",
       "</div>"
      ],
      "text/plain": [
       "            id     nobs   dt_main      tspan  tspan_eff\n",
       "0    110798652  16343.0  0.001343  24.454224  21.944946\n",
       "1    110798652  16818.0  0.001465  24.962402  24.635742\n",
       "2    110798652  16051.0  0.001465  24.360840  23.512207\n",
       "3    118269334  12583.0  0.001343  22.994873  16.896118\n",
       "4    118269334  18771.0  0.001465  27.717529  27.496582\n",
       "..         ...      ...       ...        ...        ...\n",
       "237    4491131  12952.0  0.001465  23.701660  18.972656\n",
       "238    4491131  14483.0  0.001465  23.631348  21.215332\n",
       "239    4491131  14715.0  0.001465  23.408691  21.555176\n",
       "240   58105597  12899.0  0.001343  23.308105  17.320435\n",
       "241   58105597  17991.0  0.001465  28.759521  26.354004\n",
       "\n",
       "[242 rows x 5 columns]"
      ]
     },
     "execution_count": 2,
     "metadata": {},
     "output_type": "execute_result"
    }
   ],
   "source": [
    "file = pd.read_csv('D:/UFRN/NAOS/BStars_2024att/Rot/dat/get_tspan.txt', sep=' ')\n",
    "file"
   ]
  },
  {
   "cell_type": "code",
   "execution_count": 12,
   "id": "76fe2d65",
   "metadata": {},
   "outputs": [
    {
     "data": {
      "text/plain": [
       "id\n",
       "4491131      154.0\n",
       "58105597      44.0\n",
       "110798652     70.0\n",
       "118269334     44.0\n",
       "165547989     61.0\n",
       "198240464    621.0\n",
       "220323146     45.0\n",
       "229452839    679.0\n",
       "232633722    479.0\n",
       "233539736    586.0\n",
       "236872887    322.0\n",
       "258109545     56.0\n",
       "258461221    651.0\n",
       "268971806    153.0\n",
       "269118344     45.0\n",
       "276549422     19.0\n",
       "279511712    720.0\n",
       "322312868     85.0\n",
       "358467049    379.0\n",
       "393852409     47.0\n",
       "394020645     83.0\n",
       "407615454     49.0\n",
       "Name: tspan_eff, dtype: float64"
      ]
     },
     "execution_count": 12,
     "metadata": {},
     "output_type": "execute_result"
    }
   ],
   "source": [
    "group = round(file.groupby('id').sum()['tspan_eff'], 0)\n",
    "group"
   ]
  },
  {
   "cell_type": "code",
   "execution_count": 13,
   "id": "5c353f93",
   "metadata": {},
   "outputs": [],
   "source": [
    "group.to_csv('D:/UFRN/NAOS/BStars_2024att/Rot/Total_tspan.csv', sep=';')"
   ]
  },
  {
   "cell_type": "code",
   "execution_count": null,
   "id": "e8d9a2e1",
   "metadata": {},
   "outputs": [],
   "source": []
  }
 ],
 "metadata": {
  "kernelspec": {
   "display_name": "Python 3 (ipykernel)",
   "language": "python",
   "name": "python3"
  },
  "language_info": {
   "codemirror_mode": {
    "name": "ipython",
    "version": 3
   },
   "file_extension": ".py",
   "mimetype": "text/x-python",
   "name": "python",
   "nbconvert_exporter": "python",
   "pygments_lexer": "ipython3",
   "version": "3.9.13"
  }
 },
 "nbformat": 4,
 "nbformat_minor": 5
}
